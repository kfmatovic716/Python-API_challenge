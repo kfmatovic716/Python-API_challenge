{
 "cells": [
  {
   "cell_type": "markdown",
   "metadata": {},
   "source": [
    "# VacationPy\n"
   ]
  },
  {
   "cell_type": "code",
   "execution_count": 1,
   "metadata": {},
   "outputs": [],
   "source": [
    "# Dependencies and Setup\n",
    "import matplotlib.pyplot as plt\n",
    "import pandas as pd\n",
    "import numpy as np\n",
    "import requests\n",
    "import gmaps\n",
    "import os\n",
    "import json\n",
    "import requests\n",
    "from pprint import pprint\n",
    "\n",
    "# Import API key\n",
    "from config_google import g_key"
   ]
  },
  {
   "cell_type": "code",
   "execution_count": 2,
   "metadata": {},
   "outputs": [
    {
     "data": {
      "text/html": [
       "<div>\n",
       "<style scoped>\n",
       "    .dataframe tbody tr th:only-of-type {\n",
       "        vertical-align: middle;\n",
       "    }\n",
       "\n",
       "    .dataframe tbody tr th {\n",
       "        vertical-align: top;\n",
       "    }\n",
       "\n",
       "    .dataframe thead th {\n",
       "        text-align: right;\n",
       "    }\n",
       "</style>\n",
       "<table border=\"1\" class=\"dataframe\">\n",
       "  <thead>\n",
       "    <tr style=\"text-align: right;\">\n",
       "      <th></th>\n",
       "      <th>Country</th>\n",
       "      <th>City</th>\n",
       "      <th>Latitude (Degrees)</th>\n",
       "      <th>Longitude (Degrees)</th>\n",
       "      <th>Temperature (F)</th>\n",
       "      <th>Humidity (%)</th>\n",
       "      <th>Cloudiness (%)</th>\n",
       "      <th>Wind Speed (mph)</th>\n",
       "    </tr>\n",
       "  </thead>\n",
       "  <tbody>\n",
       "    <tr>\n",
       "      <th>0</th>\n",
       "      <td>TO</td>\n",
       "      <td>vaini</td>\n",
       "      <td>-21.2000</td>\n",
       "      <td>-175.2000</td>\n",
       "      <td>84.20</td>\n",
       "      <td>79</td>\n",
       "      <td>75</td>\n",
       "      <td>4.61</td>\n",
       "    </tr>\n",
       "    <tr>\n",
       "      <th>1</th>\n",
       "      <td>AU</td>\n",
       "      <td>esperance</td>\n",
       "      <td>-33.8667</td>\n",
       "      <td>121.9000</td>\n",
       "      <td>91.40</td>\n",
       "      <td>21</td>\n",
       "      <td>16</td>\n",
       "      <td>11.50</td>\n",
       "    </tr>\n",
       "    <tr>\n",
       "      <th>2</th>\n",
       "      <td>CL</td>\n",
       "      <td>punta arenas</td>\n",
       "      <td>-53.1500</td>\n",
       "      <td>-70.9167</td>\n",
       "      <td>50.00</td>\n",
       "      <td>66</td>\n",
       "      <td>90</td>\n",
       "      <td>20.71</td>\n",
       "    </tr>\n",
       "    <tr>\n",
       "      <th>3</th>\n",
       "      <td>RU</td>\n",
       "      <td>saskylakh</td>\n",
       "      <td>71.9167</td>\n",
       "      <td>114.0833</td>\n",
       "      <td>-20.72</td>\n",
       "      <td>85</td>\n",
       "      <td>100</td>\n",
       "      <td>14.14</td>\n",
       "    </tr>\n",
       "    <tr>\n",
       "      <th>4</th>\n",
       "      <td>RU</td>\n",
       "      <td>makaryev</td>\n",
       "      <td>57.8797</td>\n",
       "      <td>43.8069</td>\n",
       "      <td>-7.22</td>\n",
       "      <td>90</td>\n",
       "      <td>85</td>\n",
       "      <td>9.01</td>\n",
       "    </tr>\n",
       "    <tr>\n",
       "      <th>...</th>\n",
       "      <td>...</td>\n",
       "      <td>...</td>\n",
       "      <td>...</td>\n",
       "      <td>...</td>\n",
       "      <td>...</td>\n",
       "      <td>...</td>\n",
       "      <td>...</td>\n",
       "      <td>...</td>\n",
       "    </tr>\n",
       "    <tr>\n",
       "      <th>552</th>\n",
       "      <td>IN</td>\n",
       "      <td>mangrol</td>\n",
       "      <td>21.1167</td>\n",
       "      <td>70.1167</td>\n",
       "      <td>75.36</td>\n",
       "      <td>58</td>\n",
       "      <td>0</td>\n",
       "      <td>4.59</td>\n",
       "    </tr>\n",
       "    <tr>\n",
       "      <th>553</th>\n",
       "      <td>MZ</td>\n",
       "      <td>maxixe</td>\n",
       "      <td>-23.8597</td>\n",
       "      <td>35.3472</td>\n",
       "      <td>77.00</td>\n",
       "      <td>100</td>\n",
       "      <td>75</td>\n",
       "      <td>10.40</td>\n",
       "    </tr>\n",
       "    <tr>\n",
       "      <th>554</th>\n",
       "      <td>CI</td>\n",
       "      <td>tabou</td>\n",
       "      <td>4.4230</td>\n",
       "      <td>-7.3528</td>\n",
       "      <td>77.97</td>\n",
       "      <td>90</td>\n",
       "      <td>38</td>\n",
       "      <td>6.33</td>\n",
       "    </tr>\n",
       "    <tr>\n",
       "      <th>555</th>\n",
       "      <td>PE</td>\n",
       "      <td>barranca</td>\n",
       "      <td>-10.7500</td>\n",
       "      <td>-77.7667</td>\n",
       "      <td>69.64</td>\n",
       "      <td>83</td>\n",
       "      <td>0</td>\n",
       "      <td>3.98</td>\n",
       "    </tr>\n",
       "    <tr>\n",
       "      <th>556</th>\n",
       "      <td>CN</td>\n",
       "      <td>hanyang</td>\n",
       "      <td>32.1371</td>\n",
       "      <td>105.5126</td>\n",
       "      <td>45.00</td>\n",
       "      <td>45</td>\n",
       "      <td>99</td>\n",
       "      <td>5.99</td>\n",
       "    </tr>\n",
       "  </tbody>\n",
       "</table>\n",
       "<p>557 rows × 8 columns</p>\n",
       "</div>"
      ],
      "text/plain": [
       "    Country          City  Latitude (Degrees)  Longitude (Degrees)  \\\n",
       "0        TO         vaini            -21.2000            -175.2000   \n",
       "1        AU     esperance            -33.8667             121.9000   \n",
       "2        CL  punta arenas            -53.1500             -70.9167   \n",
       "3        RU     saskylakh             71.9167             114.0833   \n",
       "4        RU      makaryev             57.8797              43.8069   \n",
       "..      ...           ...                 ...                  ...   \n",
       "552      IN       mangrol             21.1167              70.1167   \n",
       "553      MZ        maxixe            -23.8597              35.3472   \n",
       "554      CI         tabou              4.4230              -7.3528   \n",
       "555      PE      barranca            -10.7500             -77.7667   \n",
       "556      CN       hanyang             32.1371             105.5126   \n",
       "\n",
       "     Temperature (F)  Humidity (%)  Cloudiness (%)  Wind Speed (mph)  \n",
       "0              84.20            79              75              4.61  \n",
       "1              91.40            21              16             11.50  \n",
       "2              50.00            66              90             20.71  \n",
       "3             -20.72            85             100             14.14  \n",
       "4              -7.22            90              85              9.01  \n",
       "..               ...           ...             ...               ...  \n",
       "552            75.36            58               0              4.59  \n",
       "553            77.00           100              75             10.40  \n",
       "554            77.97            90              38              6.33  \n",
       "555            69.64            83               0              3.98  \n",
       "556            45.00            45              99              5.99  \n",
       "\n",
       "[557 rows x 8 columns]"
      ]
     },
     "execution_count": 2,
     "metadata": {},
     "output_type": "execute_result"
    }
   ],
   "source": [
    "path = \"weather_data_output.csv\"\n",
    "\n",
    "# Read the data \n",
    "weather_data = pd.read_csv(path)\n",
    "weather_data"
   ]
  },
  {
   "cell_type": "code",
   "execution_count": 3,
   "metadata": {},
   "outputs": [
    {
     "data": {
      "text/plain": [
       "100"
      ]
     },
     "execution_count": 3,
     "metadata": {},
     "output_type": "execute_result"
    }
   ],
   "source": [
    "#Test if data has humidity > 100\n",
    "weather_data[\"Humidity (%)\"].max()"
   ]
  },
  {
   "cell_type": "markdown",
   "metadata": {},
   "source": [
    "### Humidity Heatmap"
   ]
  },
  {
   "cell_type": "code",
   "execution_count": 4,
   "metadata": {},
   "outputs": [],
   "source": [
    "gmaps.configure(api_key=g_key)"
   ]
  },
  {
   "cell_type": "code",
   "execution_count": 6,
   "metadata": {},
   "outputs": [
    {
     "data": {
      "application/vnd.jupyter.widget-view+json": {
       "model_id": "ba134aa5e5d24a3b95a6ac089a12330f",
       "version_major": 2,
       "version_minor": 0
      },
      "text/plain": [
       "Figure(layout=FigureLayout(height='420px'))"
      ]
     },
     "metadata": {},
     "output_type": "display_data"
    }
   ],
   "source": [
    "locations1 = weather_data[[\"Latitude (Degrees)\", \"Longitude (Degrees)\"]]\n",
    "Humidity = weather_data[\"Humidity (%)\"]\n",
    "\n",
    "fig = gmaps.figure(center=[35,-100],zoom_level=5)\n",
    "\n",
    "# Create heat layer\n",
    "heat_layer = gmaps.heatmap_layer(\n",
    "    locations1, \n",
    "    weights=Humidity, \n",
    "    dissipating=False, \n",
    "    max_intensity=10,\n",
    "    point_radius=.5)\n",
    "\n",
    "# Add layer\n",
    "fig.add_layer(heat_layer)\n",
    "fig"
   ]
  },
  {
   "cell_type": "markdown",
   "metadata": {},
   "source": [
    "### Create new DataFrame fitting weather criteria"
   ]
  },
  {
   "cell_type": "code",
   "execution_count": 7,
   "metadata": {},
   "outputs": [
    {
     "data": {
      "text/html": [
       "<div>\n",
       "<style scoped>\n",
       "    .dataframe tbody tr th:only-of-type {\n",
       "        vertical-align: middle;\n",
       "    }\n",
       "\n",
       "    .dataframe tbody tr th {\n",
       "        vertical-align: top;\n",
       "    }\n",
       "\n",
       "    .dataframe thead th {\n",
       "        text-align: right;\n",
       "    }\n",
       "</style>\n",
       "<table border=\"1\" class=\"dataframe\">\n",
       "  <thead>\n",
       "    <tr style=\"text-align: right;\">\n",
       "      <th></th>\n",
       "      <th>Country</th>\n",
       "      <th>City</th>\n",
       "      <th>Latitude (Degrees)</th>\n",
       "      <th>Longitude (Degrees)</th>\n",
       "      <th>Temperature (F)</th>\n",
       "      <th>Humidity (%)</th>\n",
       "      <th>Cloudiness (%)</th>\n",
       "      <th>Wind Speed (mph)</th>\n",
       "    </tr>\n",
       "  </thead>\n",
       "  <tbody>\n",
       "    <tr>\n",
       "      <th>27</th>\n",
       "      <td>HK</td>\n",
       "      <td>victoria</td>\n",
       "      <td>22.2855</td>\n",
       "      <td>114.1577</td>\n",
       "      <td>75.99</td>\n",
       "      <td>44</td>\n",
       "      <td>0</td>\n",
       "      <td>1.99</td>\n",
       "    </tr>\n",
       "    <tr>\n",
       "      <th>373</th>\n",
       "      <td>LA</td>\n",
       "      <td>luang prabang</td>\n",
       "      <td>19.8856</td>\n",
       "      <td>102.1347</td>\n",
       "      <td>80.60</td>\n",
       "      <td>47</td>\n",
       "      <td>0</td>\n",
       "      <td>2.30</td>\n",
       "    </tr>\n",
       "    <tr>\n",
       "      <th>415</th>\n",
       "      <td>SA</td>\n",
       "      <td>umm lajj</td>\n",
       "      <td>25.0213</td>\n",
       "      <td>37.2685</td>\n",
       "      <td>75.70</td>\n",
       "      <td>57</td>\n",
       "      <td>0</td>\n",
       "      <td>3.40</td>\n",
       "    </tr>\n",
       "    <tr>\n",
       "      <th>511</th>\n",
       "      <td>IN</td>\n",
       "      <td>bikaner</td>\n",
       "      <td>28.0167</td>\n",
       "      <td>73.3000</td>\n",
       "      <td>81.97</td>\n",
       "      <td>17</td>\n",
       "      <td>0</td>\n",
       "      <td>7.76</td>\n",
       "    </tr>\n",
       "    <tr>\n",
       "      <th>518</th>\n",
       "      <td>OM</td>\n",
       "      <td>nizwa</td>\n",
       "      <td>22.9333</td>\n",
       "      <td>57.5333</td>\n",
       "      <td>78.33</td>\n",
       "      <td>21</td>\n",
       "      <td>0</td>\n",
       "      <td>3.47</td>\n",
       "    </tr>\n",
       "  </tbody>\n",
       "</table>\n",
       "</div>"
      ],
      "text/plain": [
       "    Country           City  Latitude (Degrees)  Longitude (Degrees)  \\\n",
       "27       HK       victoria             22.2855             114.1577   \n",
       "373      LA  luang prabang             19.8856             102.1347   \n",
       "415      SA       umm lajj             25.0213              37.2685   \n",
       "511      IN        bikaner             28.0167              73.3000   \n",
       "518      OM          nizwa             22.9333              57.5333   \n",
       "\n",
       "     Temperature (F)  Humidity (%)  Cloudiness (%)  Wind Speed (mph)  \n",
       "27             75.99            44               0              1.99  \n",
       "373            80.60            47               0              2.30  \n",
       "415            75.70            57               0              3.40  \n",
       "511            81.97            17               0              7.76  \n",
       "518            78.33            21               0              3.47  "
      ]
     },
     "execution_count": 7,
     "metadata": {},
     "output_type": "execute_result"
    }
   ],
   "source": [
    "#Ideal weather: 70 - 85 degrees Fahrenheit\n",
    "temp = (weather_data[\"Temperature (F)\"] > 75) & (weather_data[\"Temperature (F)\"]<=85)\n",
    "wind = weather_data[\"Wind Speed (mph)\"]<=10.00\n",
    "cloud = weather_data[\"Cloudiness (%)\"]==0\n",
    "humid_level = (weather_data[\"Humidity (%)\"]>14) & (weather_data[\"Humidity (%)\"]<=57)\n",
    "\n",
    "ideal_weather_df = weather_data[temp & wind & cloud & humid_level]\n",
    "ideal_weather_df"
   ]
  },
  {
   "cell_type": "markdown",
   "metadata": {},
   "source": [
    "### Hotel Map"
   ]
  },
  {
   "cell_type": "code",
   "execution_count": 8,
   "metadata": {
    "scrolled": true
   },
   "outputs": [
    {
     "name": "stderr",
     "output_type": "stream",
     "text": [
      "<ipython-input-8-fb1baa2a59e4>:2: SettingWithCopyWarning: \n",
      "A value is trying to be set on a copy of a slice from a DataFrame.\n",
      "Try using .loc[row_indexer,col_indexer] = value instead\n",
      "\n",
      "See the caveats in the documentation: https://pandas.pydata.org/pandas-docs/stable/user_guide/indexing.html#returning-a-view-versus-a-copy\n",
      "  ideal_weather_df[\"Hotel Name\"]=\" \"\n",
      "<ipython-input-8-fb1baa2a59e4>:3: SettingWithCopyWarning: \n",
      "A value is trying to be set on a copy of a slice from a DataFrame.\n",
      "Try using .loc[row_indexer,col_indexer] = value instead\n",
      "\n",
      "See the caveats in the documentation: https://pandas.pydata.org/pandas-docs/stable/user_guide/indexing.html#returning-a-view-versus-a-copy\n",
      "  ideal_weather_df[\"Hotel Latitude\"]= \" \"\n",
      "<ipython-input-8-fb1baa2a59e4>:4: SettingWithCopyWarning: \n",
      "A value is trying to be set on a copy of a slice from a DataFrame.\n",
      "Try using .loc[row_indexer,col_indexer] = value instead\n",
      "\n",
      "See the caveats in the documentation: https://pandas.pydata.org/pandas-docs/stable/user_guide/indexing.html#returning-a-view-versus-a-copy\n",
      "  ideal_weather_df[\"Hotel Longitude\"]= \" \"\n"
     ]
    }
   ],
   "source": [
    "# Add a new column for hotel name and locations\n",
    "ideal_weather_df[\"Hotel Name\"]=\" \"\n",
    "ideal_weather_df[\"Hotel Latitude\"]= \" \"\n",
    "ideal_weather_df[\"Hotel Longitude\"]= \" \""
   ]
  },
  {
   "cell_type": "code",
   "execution_count": 9,
   "metadata": {},
   "outputs": [
    {
     "name": "stdout",
     "output_type": "stream",
     "text": [
      "Retrieving Results for Index 27: 22.2855,114.1577\n",
      "Closest hotel to 22.2855,114.1577 is The Landmark Mandarin Oriental, Hong Kong.\n",
      "------------\n",
      "Retrieving Results for Index 373: 19.8856,102.1347\n"
     ]
    },
    {
     "name": "stderr",
     "output_type": "stream",
     "text": [
      "C:\\Users\\jabuk\\Anaconda3\\envs\\google\\lib\\site-packages\\pandas\\core\\indexing.py:1720: SettingWithCopyWarning: \n",
      "A value is trying to be set on a copy of a slice from a DataFrame.\n",
      "Try using .loc[row_indexer,col_indexer] = value instead\n",
      "\n",
      "See the caveats in the documentation: https://pandas.pydata.org/pandas-docs/stable/user_guide/indexing.html#returning-a-view-versus-a-copy\n",
      "  self._setitem_single_column(loc, value, pi)\n"
     ]
    },
    {
     "name": "stdout",
     "output_type": "stream",
     "text": [
      "Closest hotel to 19.8856,102.1347 is Sofitel Luang Prabang.\n",
      "------------\n",
      "Retrieving Results for Index 415: 25.0213,37.2685\n",
      "Closest hotel to 25.0213,37.2685 is HP Red Sea Hotel.\n",
      "------------\n",
      "Retrieving Results for Index 511: 28.0167,73.3\n",
      "Closest hotel to 28.0167,73.3 is The Laxmi Niwas Palace.\n",
      "------------\n",
      "Retrieving Results for Index 518: 22.9333,57.5333\n",
      "Closest hotel to 22.9333,57.5333 is Albayan Farm House.\n",
      "------------\n"
     ]
    }
   ],
   "source": [
    "\n",
    "base_url = \"https://maps.googleapis.com/maps/api/place/nearbysearch/json\"\n",
    "\n",
    "# params dictionary to update each iteration\n",
    "params = {\n",
    "    \"radius\": 5000,\n",
    "    \"types\": \"hotels\",\n",
    "    \"keyword\": \"hotels\",\n",
    "    \"key\": g_key\n",
    "}\n",
    "\n",
    "for index, row in ideal_weather_df.iterrows():\n",
    "    \n",
    "    # get lat, lng from df\n",
    "    lat = row[\"Latitude (Degrees)\"]\n",
    "    lng = row[\"Longitude (Degrees)\"]\n",
    "    \n",
    "    # Add keyword location to params dictionary\n",
    "    params[\"location\"] = f\"{lat},{lng}\"\n",
    "\n",
    "    # make request and print url\n",
    "    print(f\"Retrieving Results for Index {index}: {lat},{lng}\")\n",
    "    response = requests.get(base_url, params=params).json()\n",
    "    \n",
    "    # extract results\n",
    "    hotel_results = response['results']\n",
    "    \n",
    "    try:\n",
    "        print(f\"Closest hotel to {lat},{lng} is {hotel_results[0]['name']}.\")\n",
    "        \n",
    "        ideal_weather_df.loc[index, 'Hotel Name'] = hotel_results[0]['name']\n",
    "        ideal_weather_df.loc[index, 'Hotel Latitude'] = hotel_results[0]['geometry']['location']['lat']\n",
    "        ideal_weather_df.loc[index, 'Hotel Longitude'] = hotel_results[0]['geometry']['location']['lng']\n",
    "        \n",
    "    except (KeyError, IndexError):\n",
    "        print(\"Missing field/result... skipping.\")\n",
    "        \n",
    "    print(\"------------\")"
   ]
  },
  {
   "cell_type": "code",
   "execution_count": 12,
   "metadata": {},
   "outputs": [
    {
     "data": {
      "text/html": [
       "<div>\n",
       "<style scoped>\n",
       "    .dataframe tbody tr th:only-of-type {\n",
       "        vertical-align: middle;\n",
       "    }\n",
       "\n",
       "    .dataframe tbody tr th {\n",
       "        vertical-align: top;\n",
       "    }\n",
       "\n",
       "    .dataframe thead th {\n",
       "        text-align: right;\n",
       "    }\n",
       "</style>\n",
       "<table border=\"1\" class=\"dataframe\">\n",
       "  <thead>\n",
       "    <tr style=\"text-align: right;\">\n",
       "      <th></th>\n",
       "      <th>Hotel Name</th>\n",
       "      <th>Country</th>\n",
       "      <th>City</th>\n",
       "      <th>Hotel Latitude</th>\n",
       "      <th>Hotel Longitude</th>\n",
       "    </tr>\n",
       "  </thead>\n",
       "  <tbody>\n",
       "    <tr>\n",
       "      <th>27</th>\n",
       "      <td>The Landmark Mandarin Oriental, Hong Kong</td>\n",
       "      <td>HK</td>\n",
       "      <td>victoria</td>\n",
       "      <td>22.280518</td>\n",
       "      <td>114.157939</td>\n",
       "    </tr>\n",
       "    <tr>\n",
       "      <th>373</th>\n",
       "      <td>Sofitel Luang Prabang</td>\n",
       "      <td>LA</td>\n",
       "      <td>luang prabang</td>\n",
       "      <td>19.881046</td>\n",
       "      <td>102.135139</td>\n",
       "    </tr>\n",
       "    <tr>\n",
       "      <th>415</th>\n",
       "      <td>HP Red Sea Hotel</td>\n",
       "      <td>SA</td>\n",
       "      <td>umm lajj</td>\n",
       "      <td>25.03259</td>\n",
       "      <td>37.257006</td>\n",
       "    </tr>\n",
       "    <tr>\n",
       "      <th>511</th>\n",
       "      <td>The Laxmi Niwas Palace</td>\n",
       "      <td>IN</td>\n",
       "      <td>bikaner</td>\n",
       "      <td>28.040114</td>\n",
       "      <td>73.331075</td>\n",
       "    </tr>\n",
       "    <tr>\n",
       "      <th>518</th>\n",
       "      <td>Albayan Farm House</td>\n",
       "      <td>OM</td>\n",
       "      <td>nizwa</td>\n",
       "      <td>22.922901</td>\n",
       "      <td>57.535144</td>\n",
       "    </tr>\n",
       "  </tbody>\n",
       "</table>\n",
       "</div>"
      ],
      "text/plain": [
       "                                    Hotel Name Country           City  \\\n",
       "27   The Landmark Mandarin Oriental, Hong Kong      HK       victoria   \n",
       "373                      Sofitel Luang Prabang      LA  luang prabang   \n",
       "415                           HP Red Sea Hotel      SA       umm lajj   \n",
       "511                     The Laxmi Niwas Palace      IN        bikaner   \n",
       "518                         Albayan Farm House      OM          nizwa   \n",
       "\n",
       "    Hotel Latitude Hotel Longitude  \n",
       "27       22.280518      114.157939  \n",
       "373      19.881046      102.135139  \n",
       "415       25.03259       37.257006  \n",
       "511      28.040114       73.331075  \n",
       "518      22.922901       57.535144  "
      ]
     },
     "execution_count": 12,
     "metadata": {},
     "output_type": "execute_result"
    }
   ],
   "source": [
    "city_hotels_df = ideal_weather_df[[\"Hotel Name\", \"Country\", \"City\", \"Hotel Latitude\", \"Hotel Longitude\"]]\n",
    "city_hotels_df"
   ]
  },
  {
   "cell_type": "code",
   "execution_count": 13,
   "metadata": {},
   "outputs": [],
   "source": [
    "# NOTE: Do not change any of the code in this cell\n",
    "\n",
    "# Using the template add the hotel marks to the heatmap\n",
    "info_box_template = \"\"\"\n",
    "<dl>\n",
    "<dt>Name</dt><dd>{Hotel Name}</dd>\n",
    "<dt>City</dt><dd>{City}</dd>\n",
    "<dt>Country</dt><dd>{Country}</dd>\n",
    "</dl>\n",
    "\"\"\"\n",
    "# Store the DataFrame Row\n",
    "hotel_details = [info_box_template.format(**row) for index, row in city_hotels_df.iterrows()]\n",
    "locations = city_hotels_df[[\"Hotel Latitude\", \"Hotel Longitude\"]]"
   ]
  },
  {
   "cell_type": "code",
   "execution_count": 14,
   "metadata": {},
   "outputs": [
    {
     "data": {
      "application/vnd.jupyter.widget-view+json": {
       "model_id": "3d8812a1d6124bef810e436f16c820a8",
       "version_major": 2,
       "version_minor": 0
      },
      "text/plain": [
       "Figure(layout=FigureLayout(height='420px'))"
      ]
     },
     "metadata": {},
     "output_type": "display_data"
    }
   ],
   "source": [
    "# Add marker layer on top of heat map above\n",
    "fig2= gmaps.figure(center=[28.040114,73.331075], zoom_level=4)\n",
    "\n",
    "heat_layer = gmaps.heatmap_layer(\n",
    "    locations1, \n",
    "    weights=Humidity,\n",
    "    dissipating=False, \n",
    "    max_intensity=5,\n",
    "    point_radius=.5)\n",
    "\n",
    "marker_layer = gmaps.marker_layer(locations,\n",
    "                                info_box_content=hotel_details,\n",
    "                                display_info_box=None)\n",
    "\n",
    "fig2.add_layer(heat_layer)\n",
    "fig2.add_layer(marker_layer)\n",
    "\n",
    "# Display figure\n",
    "fig2"
   ]
  },
  {
   "cell_type": "code",
   "execution_count": null,
   "metadata": {},
   "outputs": [],
   "source": []
  }
 ],
 "metadata": {
  "kernelspec": {
   "display_name": "Python 3",
   "language": "python",
   "name": "python3"
  },
  "language_info": {
   "codemirror_mode": {
    "name": "ipython",
    "version": 3
   },
   "file_extension": ".py",
   "mimetype": "text/x-python",
   "name": "python",
   "nbconvert_exporter": "python",
   "pygments_lexer": "ipython3",
   "version": "3.8.5"
  },
  "latex_envs": {
   "LaTeX_envs_menu_present": true,
   "autoclose": false,
   "autocomplete": true,
   "bibliofile": "biblio.bib",
   "cite_by": "apalike",
   "current_citInitial": 1,
   "eqLabelWithNumbers": true,
   "eqNumInitial": 1,
   "hotkeys": {
    "equation": "Ctrl-E",
    "itemize": "Ctrl-I"
   },
   "labels_anchors": false,
   "latex_user_defs": false,
   "report_style_numbering": false,
   "user_envs_cfg": false
  }
 },
 "nbformat": 4,
 "nbformat_minor": 4
}
